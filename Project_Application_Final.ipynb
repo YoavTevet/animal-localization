{
  "cells": [
    {
      "cell_type": "markdown",
      "metadata": {
        "id": "puvWHhe1dv7e"
      },
      "source": [
        "# Start"
      ]
    },
    {
      "cell_type": "code",
      "execution_count": null,
      "metadata": {
        "id": "ivr9Pt2iVeav"
      },
      "outputs": [],
      "source": [
        "# this is the source for the database.\n",
        "# URL = 'https://www.kaggle.com/datasets/alessiocorrado99/animals10'\n",
        "\n",
        "import numpy as np\n",
        "import tensorflow as tf\n",
        "from matplotlib import pyplot as plt\n",
        "from matplotlib.patches import Rectangle\n",
        "import seaborn as sns\n",
        "from keras.layers import Input, Flatten, Dense\n",
        "from keras.models import Model\n",
        "from tensorflow.keras.optimizers import Adam, SGD\n",
        "from PIL import Image\n",
        "from glob import glob\n",
        "import random\n",
        "import os\n",
        "import cv2\n",
        "from pathlib import Path\n",
        "from keras.applications.vgg16 import preprocess_input\n",
        "from google.colab import files\n",
        "from tensorflow.keras import layers, models\n",
        "from tensorflow.keras.datasets import mnist\n",
        "from tensorflow.keras.utils import to_categorical\n",
        "from sklearn.model_selection import train_test_split\n",
        "import shutil\n",
        "from tensorflow.keras.applications import VGG16"
      ]
    },
    {
      "cell_type": "code",
      "execution_count": null,
      "metadata": {
        "id": "DJr4uupxZRqa"
      },
      "outputs": [],
      "source": [
        "# muonting to google drive\n",
        "from google.colab import drive\n",
        "drive.mount('/content/drive')\n",
        "path = \"/content/drive/MyDrive/פרוייקט סיכום הנדסת תוכנה/\""
      ]
    },
    {
      "cell_type": "code",
      "execution_count": null,
      "metadata": {
        "id": "nX9s0eLoYrfS"
      },
      "outputs": [],
      "source": [
        "model = tf.keras.models.load_model(path+'/model.keras')"
      ]
    },
    {
      "cell_type": "code",
      "execution_count": null,
      "metadata": {
        "id": "c51vaIXjSkes"
      },
      "outputs": [],
      "source": [
        "# calculate intersection over union\n",
        "def localization_iou(y_true, y_pred):\n",
        "\n",
        "    y_true = y_true.copy() #make a copy\n",
        "    y_pred = y_pred.copy()\n",
        "\n",
        "    y_true[:,2] +=y_true[:,0] #calculate y-high coordinate\n",
        "    y_true[:,3] +=y_true[:,1] #calculate x-high coordinate\n",
        "\n",
        "    y_pred[:,2] +=y_pred[:,0] #calculate y-high coordinate\n",
        "    y_pred[:,3] +=y_pred[:,1] #calculate x-high coordinate\n",
        "\n",
        "    # Calculate the coordinates of the intersection rectangle\n",
        "    x_min = np.max([y_true[:, 0], y_pred[:,0]], axis=0)\n",
        "    y_min = np.max([y_true[:, 1], y_pred[:, 1]], axis=0)\n",
        "    x_max = np.min([y_true[:, 2], y_pred[:, 2]], axis=0)\n",
        "    y_max = np.min([y_true[:, 3], y_pred[:, 3]], axis=0)\n",
        "\n",
        "    # Calculate the area of intersection rectangle\n",
        "    a = x_max - x_min\n",
        "    b = y_max - y_min\n",
        "\n",
        "    a = a * (a >= 0)\n",
        "    b = b * (b >= 0)\n",
        "\n",
        "    intersection_area = a * b\n",
        "\n",
        "    # Calculate the area of the union rectangle\n",
        "    y_true_area = (y_true[:, 2] - y_true[:, 0]) * (y_true[:, 3] - y_true[:, 1])\n",
        "    y_pred_area = (y_pred[:, 2] - y_pred[:, 0]) * (y_pred[:, 3] - y_pred[:, 1])\n",
        "    union_area = y_true_area + y_pred_area - intersection_area\n",
        "\n",
        "    # Calculate IoU\n",
        "    iou = intersection_area / union_area\n",
        "\n",
        "    return iou\n"
      ]
    },
    {
      "cell_type": "code",
      "execution_count": null,
      "metadata": {
        "id": "Yrb7eg-HZOHU"
      },
      "outputs": [],
      "source": [
        "model.summary()"
      ]
    },
    {
      "cell_type": "code",
      "execution_count": null,
      "metadata": {
        "id": "pL2tieg5RZg0"
      },
      "outputs": [],
      "source": [
        "cat_eng = {'chicken': 0, 'squirrel': 1, 'cow': 2, 'horse': 3, 'sheep': 4, 'cat': 5,\n",
        "           'elephant': 6, 'dog': 7, 0: 'chicken', 1: 'squirrel', 2: \"cow\", 3: 'horse',\n",
        "           4: 'sheep', 5: 'cat', 6: 'elephant', 7: 'dog'}"
      ]
    },
    {
      "cell_type": "code",
      "execution_count": null,
      "metadata": {
        "id": "AObGhra1Ze6L"
      },
      "outputs": [],
      "source": [
        "horse = Image.open(path + \"horse.jpg\")\n",
        "horse = horse.resize(size=(120, 120))\n",
        "# horse = np.array(horse)\n",
        "# horse = np.expand_dims(horse, axis=0)\n",
        "# horse = preprocess_input(horse)\n",
        "horse\n",
        "# horse = model.predict(horse)"
      ]
    },
    {
      "cell_type": "code",
      "execution_count": null,
      "metadata": {
        "id": "WGYJaHUHHbLF"
      },
      "outputs": [],
      "source": [
        "# backgrounds\n",
        "!wget -q 'https://raw.githubusercontent.com/arielb30/pokemon/main/backgrounds.zip'\n",
        "!unzip -q -n backgrounds.zip"
      ]
    },
    {
      "cell_type": "code",
      "execution_count": null,
      "metadata": {
        "id": "tZk-Mrg2HimB"
      },
      "outputs": [],
      "source": [
        "backgrounds = []\n",
        "background_files = glob('backgrounds/*.jpg')\n",
        "for f in background_files:\n",
        "  # open and resize backgrounds\n",
        "  bg = Image.open(f).resize((224, 224))  # images are originally shaped 224 by 350 ish\n",
        "  backgrounds.append(np.array(bg))"
      ]
    },
    {
      "cell_type": "code",
      "execution_count": null,
      "metadata": {
        "id": "RQuijlRHH0ch"
      },
      "outputs": [],
      "source": [
        "print(len(backgrounds))"
      ]
    },
    {
      "cell_type": "code",
      "execution_count": null,
      "metadata": {
        "id": "1cmn9t-rH5ZI"
      },
      "outputs": [],
      "source": [
        "h = np.array(horse)\n",
        "b = np.array(backgrounds[0])\n",
        "\n",
        "print(h.shape)\n",
        "print(b.shape)"
      ]
    },
    {
      "cell_type": "markdown",
      "metadata": {
        "id": "2Os1wnBod1I_"
      },
      "source": [
        "# Working Functions"
      ]
    },
    {
      "cell_type": "code",
      "execution_count": null,
      "metadata": {
        "id": "jB4cXxt-SMfT"
      },
      "outputs": [],
      "source": [
        "\n",
        "def print_image_to_background(image, shape=(40, 40), bg=0):\n",
        "\n",
        "  if bg > len(backgrounds)-1:\n",
        "    bg = 0\n",
        "\n",
        "  loc = [shape[0], shape[1]]\n",
        "  if loc[0] < 0:\n",
        "    loc[0] = 0\n",
        "\n",
        "  if loc[1] < 0:\n",
        "    loc[1] = 0\n",
        "\n",
        "  if loc[0] > 100:\n",
        "    loc[0] = 100\n",
        "\n",
        "  if loc[1] > 100:\n",
        "    loc[1] = 100\n",
        "\n",
        "  bg = np.array(backgrounds[bg])\n",
        "\n",
        "  img = np.array(image)\n",
        "\n",
        "  if img.shape[0] > 120:\n",
        "    image = image.resize((img.shape[1], 120))\n",
        "\n",
        "  img = np.array(image)\n",
        "\n",
        "  if img.shape[1] > 120:\n",
        "    image = image.resize((120, img.shape[0]))\n",
        "\n",
        "  img = np.array(image)\n",
        "\n",
        "  bg[loc[1]:loc[1]+img.shape[1], loc[0]:loc[0]+img.shape[0]] = img\n",
        "\n",
        "  print(bg.shape)\n",
        "\n",
        "  return Image.fromarray(bg)\n",
        "\n"
      ]
    },
    {
      "cell_type": "code",
      "execution_count": null,
      "metadata": {
        "id": "foU1KJ3zZxHs"
      },
      "outputs": [],
      "source": [
        "a = print_image_to_background(horse, (130, 130), bg=5)\n",
        "a"
      ]
    },
    {
      "cell_type": "code",
      "execution_count": null,
      "metadata": {
        "id": "fiqvTpPraYQN"
      },
      "outputs": [],
      "source": [
        "def predict_image(image):\n",
        "  image = np.array(image)\n",
        "  im = image.copy()\n",
        "  im = im.reshape(1, im.shape[0], im.shape[1], im.shape[2])\n",
        "  (pred_bbox, pred_cat) = model.predict(im)\n",
        "  print(pred_bbox.shape, pred_cat.shape)\n",
        "  return (pred_bbox, pred_cat, image)\n"
      ]
    },
    {
      "cell_type": "code",
      "execution_count": null,
      "metadata": {
        "id": "tzu1NU9zajUn"
      },
      "outputs": [],
      "source": [
        "(pb, pc, img) = predict_image(print_image_to_background(horse, (130, 130), bg=5))"
      ]
    },
    {
      "cell_type": "code",
      "execution_count": null,
      "metadata": {
        "id": "85MOXuamahKv"
      },
      "outputs": [],
      "source": [
        "def return_result(pb, pc, img):\n",
        "\n",
        "  ax = plt.subplot(1, 1, 1)\n",
        "  ax.imshow(img.astype(np.uint8))\n",
        "\n",
        "  size = 224\n",
        "\n",
        "  rect = Rectangle(\n",
        "      (pb[0,1]* 224, pb[0,0]* 224),\n",
        "      pb[0,3]* 224, pb[0,2]* 224,linewidth=1,edgecolor='r',facecolor='none')\n",
        "  ax.add_patch(rect)\n",
        "\n",
        "  p_cat = np.argmax(pc[0])\n",
        "  print(p_cat, cat_eng[p_cat])\n",
        "  return ax"
      ]
    },
    {
      "cell_type": "code",
      "execution_count": null,
      "metadata": {
        "id": "CS0MR-6gnfqB"
      },
      "outputs": [],
      "source": [
        "\n",
        "horse = Image.open(path + \"horse.jpg\")\n",
        "img = print_image_to_background(horse)\n",
        "(pb, pc, img) = predict_image(img)\n",
        "\n",
        "im = return_result(pb, pc, img)\n",
        "\n"
      ]
    },
    {
      "cell_type": "code",
      "execution_count": null,
      "metadata": {
        "id": "hZnNMOVFozF5"
      },
      "outputs": [],
      "source": [
        "return_result(pb, pc, img)"
      ]
    },
    {
      "cell_type": "code",
      "execution_count": null,
      "metadata": {
        "id": "LLZqHlz-gd1H"
      },
      "outputs": [],
      "source": [
        "horse = Image.open(path + \"horse.jpg\")\n",
        "h = np.array(horse)\n",
        "print(h.shape)\n",
        "\n",
        "horse = horse.resize((250, 120))\n",
        "h = np.array(horse)\n",
        "print(h.shape)\n"
      ]
    },
    {
      "cell_type": "code",
      "execution_count": null,
      "metadata": {
        "id": "aNcGMzdYcn35"
      },
      "outputs": [],
      "source": [
        "from random import randint\n",
        "\n",
        "\n",
        "horse = Image.open(path + \"horse.jpg\")\n",
        "\n",
        "\n",
        "def work_all(im, loca=(0,0), bag=0):\n",
        "  img = print_image_to_background(im, shape=loca, bg=bag)\n",
        "\n",
        "  (pb, pc, img) = predict_image(img)\n",
        "\n",
        "  ax = return_result(pb, pc, img)\n",
        "  plt.savefig(\"product.png\")\n",
        "  return ax, pc"
      ]
    },
    {
      "cell_type": "code",
      "execution_count": null,
      "metadata": {
        "id": "HT-pJF1RktmI"
      },
      "outputs": [],
      "source": [
        "ax, cat = work_all(horse)"
      ]
    },
    {
      "cell_type": "code",
      "execution_count": null,
      "metadata": {
        "id": "5oe_AEQamkJr"
      },
      "outputs": [],
      "source": []
    },
    {
      "cell_type": "code",
      "execution_count": null,
      "metadata": {
        "id": "ybqd2lUXhUGc"
      },
      "outputs": [],
      "source": [
        "!pip install anvil-uplink"
      ]
    },
    {
      "cell_type": "code",
      "execution_count": null,
      "metadata": {
        "id": "e33EwkDxheu0"
      },
      "outputs": [],
      "source": [
        "import anvil.server\n",
        "import anvil.media"
      ]
    },
    {
      "cell_type": "code",
      "execution_count": null,
      "metadata": {
        "id": "rsx0t3Sih2Cf"
      },
      "outputs": [],
      "source": [
        "# Anvil connection\n",
        "\n",
        "@anvil.server.callable\n",
        "def classify_image(file, loc=(randint(0, 90), randint(0, 90)), bagr=0):\n",
        "  with anvil.media.TempFile(file) as f:\n",
        "    img = tf.keras.utils.load_img(f)\n",
        "\n",
        "  ax, cat = work_all(img, loca=loc, bag=bagr)\n",
        "\n",
        "  cat = cat_eng[np.argmax(cat)]\n",
        "\n",
        "  im = anvil.media.from_file(\"product.png\")\n",
        "  return im, cat\n"
      ]
    },
    {
      "cell_type": "code",
      "execution_count": null,
      "metadata": {
        "id": "L56fleZQi9Pf"
      },
      "outputs": [],
      "source": [
        "anvil.server.connect(\"server_HGCZL633GOSHSYMKNBS43U57-GPSK432H4S7M2CQJ\")"
      ]
    },
    {
      "cell_type": "code",
      "execution_count": null,
      "metadata": {
        "colab": {
          "background_save": true,
          "base_uri": "https://localhost:8080/"
        },
        "id": "QZqHklCujztY",
        "outputId": "8d7627b3-aece-4f4a-90d2-2b9eaff71c80"
      },
      "outputs": [
        {
          "name": "stdout",
          "output_type": "stream",
          "text": [
            "(224, 224, 3)\n",
            "1/1 [==============================] - 1s 560ms/step\n",
            "(1, 4) (1, 8)\n",
            "2 cow\n",
            "(224, 224, 3)\n",
            "1/1 [==============================] - 1s 558ms/step\n",
            "(1, 4) (1, 8)\n",
            "2 cow\n",
            "(224, 224, 3)\n",
            "1/1 [==============================] - 1s 556ms/step\n",
            "(1, 4) (1, 8)\n",
            "2 cow\n",
            "(224, 224, 3)\n",
            "1/1 [==============================] - 1s 540ms/step\n",
            "(1, 4) (1, 8)\n",
            "2 cow\n",
            "(224, 224, 3)\n",
            "1/1 [==============================] - 1s 555ms/step\n",
            "(1, 4) (1, 8)\n",
            "2 cow\n",
            "Anvil websocket closed (code 1000, reason=b'')\n",
            "Reconnecting Anvil Uplink...\n",
            "Connecting to wss://anvil.works/uplink\n",
            "Anvil websocket open\n",
            "Connected to \"Default Environment\" as SERVER\n"
          ]
        }
      ],
      "source": [
        "anvil.server.wait_forever()"
      ]
    },
    {
      "cell_type": "code",
      "execution_count": null,
      "metadata": {
        "id": "RT4BEDE4c01Q"
      },
      "outputs": [],
      "source": [
        "'''from ._anvil_designer import Form1Template\n",
        "from anvil import *\n",
        "import anvil.server\n",
        "\n",
        "class Form1(Form1Template):\n",
        "  def __init__(self, **properties):\n",
        "    # Set Form properties and Data Bindings.\n",
        "    self.init_components(**properties)\n",
        "\n",
        "    # Any code you write here will run before the form opens.\n",
        "\n",
        "  def file_loader_change(self, file, **event_args):\n",
        "    \"\"\"This method is called when a new file is loaded into this FileLoader\"\"\"\n",
        "    self.image_1.source = file\n",
        "    self.image_1.visible = True\n",
        "\n",
        "  def predict_click(self, **event_args):\n",
        "    \"\"\"This method is called when the button is clicked\"\"\"\n",
        "    img, cat = anvil.server.call(\"classify_image\", self.image_1.source)\n",
        "    self.image_2.source = img\n",
        "    self.image_2.visible = True\n",
        "    self.category.content  = cat\n",
        "    self.category.visible = True\n",
        "\n",
        "  def img_loc(self, **event_args):\n",
        "    pass\n",
        "\n",
        "\n",
        "\n",
        "  '''\n",
        "\n",
        "  # this is all the anvil code."
      ]
    }
  ],
  "metadata": {
    "colab": {
      "provenance": []
    },
    "kernelspec": {
      "display_name": "Python 3",
      "name": "python3"
    },
    "language_info": {
      "name": "python"
    }
  },
  "nbformat": 4,
  "nbformat_minor": 0
}